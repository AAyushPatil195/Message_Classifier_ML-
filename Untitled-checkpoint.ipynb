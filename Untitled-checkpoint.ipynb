{
 "cells": [
  {
   "cell_type": "code",
   "execution_count": 31,
   "id": "ab8c3e51",
   "metadata": {},
   "outputs": [],
   "source": [
    "import numpy as np\n",
    "import pandas as pd"
   ]
  },
  {
   "cell_type": "code",
   "execution_count": 32,
   "id": "fc6c107a",
   "metadata": {},
   "outputs": [
    {
     "data": {
      "text/html": [
       "<div>\n",
       "<style scoped>\n",
       "    .dataframe tbody tr th:only-of-type {\n",
       "        vertical-align: middle;\n",
       "    }\n",
       "\n",
       "    .dataframe tbody tr th {\n",
       "        vertical-align: top;\n",
       "    }\n",
       "\n",
       "    .dataframe thead th {\n",
       "        text-align: right;\n",
       "    }\n",
       "</style>\n",
       "<table border=\"1\" class=\"dataframe\">\n",
       "  <thead>\n",
       "    <tr style=\"text-align: right;\">\n",
       "      <th></th>\n",
       "      <th>v1</th>\n",
       "      <th>v2</th>\n",
       "      <th>Unnamed: 2</th>\n",
       "      <th>Unnamed: 3</th>\n",
       "      <th>Unnamed: 4</th>\n",
       "    </tr>\n",
       "  </thead>\n",
       "  <tbody>\n",
       "    <tr>\n",
       "      <th>3330</th>\n",
       "      <td>ham</td>\n",
       "      <td>How much it will cost approx . Per month.</td>\n",
       "      <td>NaN</td>\n",
       "      <td>NaN</td>\n",
       "      <td>NaN</td>\n",
       "    </tr>\n",
       "    <tr>\n",
       "      <th>1315</th>\n",
       "      <td>ham</td>\n",
       "      <td>Whenevr ur sad, Whenevr ur gray, Remembr im he...</td>\n",
       "      <td>NaN</td>\n",
       "      <td>NaN</td>\n",
       "      <td>NaN</td>\n",
       "    </tr>\n",
       "    <tr>\n",
       "      <th>4100</th>\n",
       "      <td>spam</td>\n",
       "      <td>GSOH? Good with SPAM the ladies?U could b a ma...</td>\n",
       "      <td>NaN</td>\n",
       "      <td>NaN</td>\n",
       "      <td>NaN</td>\n",
       "    </tr>\n",
       "    <tr>\n",
       "      <th>1515</th>\n",
       "      <td>ham</td>\n",
       "      <td>I wonder if you'll get this text?</td>\n",
       "      <td>NaN</td>\n",
       "      <td>NaN</td>\n",
       "      <td>NaN</td>\n",
       "    </tr>\n",
       "    <tr>\n",
       "      <th>3722</th>\n",
       "      <td>ham</td>\n",
       "      <td>We left already we at orchard now.</td>\n",
       "      <td>NaN</td>\n",
       "      <td>NaN</td>\n",
       "      <td>NaN</td>\n",
       "    </tr>\n",
       "  </tbody>\n",
       "</table>\n",
       "</div>"
      ],
      "text/plain": [
       "        v1                                                 v2 Unnamed: 2  \\\n",
       "3330   ham          How much it will cost approx . Per month.        NaN   \n",
       "1315   ham  Whenevr ur sad, Whenevr ur gray, Remembr im he...        NaN   \n",
       "4100  spam  GSOH? Good with SPAM the ladies?U could b a ma...        NaN   \n",
       "1515   ham                  I wonder if you'll get this text?        NaN   \n",
       "3722   ham                 We left already we at orchard now.        NaN   \n",
       "\n",
       "     Unnamed: 3 Unnamed: 4  \n",
       "3330        NaN        NaN  \n",
       "1315        NaN        NaN  \n",
       "4100        NaN        NaN  \n",
       "1515        NaN        NaN  \n",
       "3722        NaN        NaN  "
      ]
     },
     "execution_count": 32,
     "metadata": {},
     "output_type": "execute_result"
    }
   ],
   "source": [
    "mp=pd.read_csv('spam1.csv')\n",
    "mp.sample(5)"
   ]
  },
  {
   "cell_type": "code",
   "execution_count": 33,
   "id": "d0573fc2",
   "metadata": {},
   "outputs": [
    {
     "data": {
      "text/plain": [
       "(5572, 5)"
      ]
     },
     "execution_count": 33,
     "metadata": {},
     "output_type": "execute_result"
    }
   ],
   "source": [
    "mp.shape"
   ]
  },
  {
   "cell_type": "code",
   "execution_count": 34,
   "id": "f2d6281d",
   "metadata": {},
   "outputs": [],
   "source": [
    "# steps we follow in completing the project are:\n",
    "# 1) data cleaning (because in this data set we have much nan values are present)\n",
    "# 2) EDA (exploratory data analysis)\n",
    "# 3) text prepocessing \n",
    "# 4) model buliding \n",
    "# 5) evaluation \n",
    "# 6) improvement \n",
    "# 7) forming website and deploy on website \n"
   ]
  },
  {
   "cell_type": "code",
   "execution_count": 35,
   "id": "2a22a3c4",
   "metadata": {},
   "outputs": [
    {
     "name": "stdout",
     "output_type": "stream",
     "text": [
      "<class 'pandas.core.frame.DataFrame'>\n",
      "RangeIndex: 5572 entries, 0 to 5571\n",
      "Data columns (total 5 columns):\n",
      " #   Column      Non-Null Count  Dtype \n",
      "---  ------      --------------  ----- \n",
      " 0   v1          5572 non-null   object\n",
      " 1   v2          5572 non-null   object\n",
      " 2   Unnamed: 2  50 non-null     object\n",
      " 3   Unnamed: 3  12 non-null     object\n",
      " 4   Unnamed: 4  6 non-null      object\n",
      "dtypes: object(5)\n",
      "memory usage: 217.8+ KB\n"
     ]
    }
   ],
   "source": [
    "mp.info()"
   ]
  },
  {
   "cell_type": "code",
   "execution_count": 36,
   "id": "951b5edb",
   "metadata": {},
   "outputs": [],
   "source": [
    "mp.drop(columns=['Unnamed: 2','Unnamed: 3','Unnamed: 4'],inplace=True) #this permanent function so we do inplace =true\n",
    "#we use inplace =true isto avoid creating a new DataFrame object with each successive modification but instead making changes to the original DataFrame itself"
   ]
  },
  {
   "cell_type": "code",
   "execution_count": 37,
   "id": "73547836",
   "metadata": {},
   "outputs": [
    {
     "data": {
      "text/html": [
       "<div>\n",
       "<style scoped>\n",
       "    .dataframe tbody tr th:only-of-type {\n",
       "        vertical-align: middle;\n",
       "    }\n",
       "\n",
       "    .dataframe tbody tr th {\n",
       "        vertical-align: top;\n",
       "    }\n",
       "\n",
       "    .dataframe thead th {\n",
       "        text-align: right;\n",
       "    }\n",
       "</style>\n",
       "<table border=\"1\" class=\"dataframe\">\n",
       "  <thead>\n",
       "    <tr style=\"text-align: right;\">\n",
       "      <th></th>\n",
       "      <th>v1</th>\n",
       "      <th>v2</th>\n",
       "    </tr>\n",
       "  </thead>\n",
       "  <tbody>\n",
       "    <tr>\n",
       "      <th>3943</th>\n",
       "      <td>ham</td>\n",
       "      <td>Until 545 lor... Ya, can go 4 dinner together...</td>\n",
       "    </tr>\n",
       "    <tr>\n",
       "      <th>4871</th>\n",
       "      <td>ham</td>\n",
       "      <td>Hi dis is yijue i would be happy to work wif Ì...</td>\n",
       "    </tr>\n",
       "    <tr>\n",
       "      <th>2359</th>\n",
       "      <td>spam</td>\n",
       "      <td>Spook up your mob with a Halloween collection ...</td>\n",
       "    </tr>\n",
       "    <tr>\n",
       "      <th>5465</th>\n",
       "      <td>ham</td>\n",
       "      <td>Shall I bring us a bottle of wine to keep us a...</td>\n",
       "    </tr>\n",
       "    <tr>\n",
       "      <th>1626</th>\n",
       "      <td>ham</td>\n",
       "      <td>Dear how you. Are you ok?</td>\n",
       "    </tr>\n",
       "  </tbody>\n",
       "</table>\n",
       "</div>"
      ],
      "text/plain": [
       "        v1                                                 v2\n",
       "3943   ham   Until 545 lor... Ya, can go 4 dinner together...\n",
       "4871   ham  Hi dis is yijue i would be happy to work wif Ì...\n",
       "2359  spam  Spook up your mob with a Halloween collection ...\n",
       "5465   ham  Shall I bring us a bottle of wine to keep us a...\n",
       "1626   ham                          Dear how you. Are you ok?"
      ]
     },
     "execution_count": 37,
     "metadata": {},
     "output_type": "execute_result"
    }
   ],
   "source": [
    "mp.sample(5)"
   ]
  },
  {
   "cell_type": "code",
   "execution_count": 38,
   "id": "c47436d6",
   "metadata": {},
   "outputs": [],
   "source": [
    "mp.rename(columns={'v1':'target','v2':'message'},inplace=True)"
   ]
  },
  {
   "cell_type": "code",
   "execution_count": 39,
   "id": "0779977f",
   "metadata": {},
   "outputs": [
    {
     "data": {
      "text/html": [
       "<div>\n",
       "<style scoped>\n",
       "    .dataframe tbody tr th:only-of-type {\n",
       "        vertical-align: middle;\n",
       "    }\n",
       "\n",
       "    .dataframe tbody tr th {\n",
       "        vertical-align: top;\n",
       "    }\n",
       "\n",
       "    .dataframe thead th {\n",
       "        text-align: right;\n",
       "    }\n",
       "</style>\n",
       "<table border=\"1\" class=\"dataframe\">\n",
       "  <thead>\n",
       "    <tr style=\"text-align: right;\">\n",
       "      <th></th>\n",
       "      <th>target</th>\n",
       "      <th>message</th>\n",
       "    </tr>\n",
       "  </thead>\n",
       "  <tbody>\n",
       "    <tr>\n",
       "      <th>4102</th>\n",
       "      <td>spam</td>\n",
       "      <td>U have a secret admirer who is looking 2 make ...</td>\n",
       "    </tr>\n",
       "    <tr>\n",
       "      <th>2922</th>\n",
       "      <td>ham</td>\n",
       "      <td>Fine am simply sitting.</td>\n",
       "    </tr>\n",
       "    <tr>\n",
       "      <th>1744</th>\n",
       "      <td>spam</td>\n",
       "      <td>Someone has conacted our dating service and en...</td>\n",
       "    </tr>\n",
       "    <tr>\n",
       "      <th>2266</th>\n",
       "      <td>spam</td>\n",
       "      <td>&lt;Forwarded from 88877&gt;FREE entry into our å£25...</td>\n",
       "    </tr>\n",
       "    <tr>\n",
       "      <th>2843</th>\n",
       "      <td>ham</td>\n",
       "      <td>Today iZ Yellow rose day. If u love my frndshi...</td>\n",
       "    </tr>\n",
       "  </tbody>\n",
       "</table>\n",
       "</div>"
      ],
      "text/plain": [
       "     target                                            message\n",
       "4102   spam  U have a secret admirer who is looking 2 make ...\n",
       "2922    ham                            Fine am simply sitting.\n",
       "1744   spam  Someone has conacted our dating service and en...\n",
       "2266   spam  <Forwarded from 88877>FREE entry into our å£25...\n",
       "2843    ham  Today iZ Yellow rose day. If u love my frndshi..."
      ]
     },
     "execution_count": 39,
     "metadata": {},
     "output_type": "execute_result"
    }
   ],
   "source": [
    "mp.sample(5)"
   ]
  },
  {
   "cell_type": "code",
   "execution_count": 40,
   "id": "fde7807b",
   "metadata": {},
   "outputs": [],
   "source": [
    "from sklearn.preprocessing import LabelEncoder \n",
    "encoder = LabelEncoder()"
   ]
  },
  {
   "cell_type": "code",
   "execution_count": 42,
   "id": "dd154fa5",
   "metadata": {},
   "outputs": [],
   "source": [
    "mp['target']=encoder.fit_transform(mp['target'])"
   ]
  },
  {
   "cell_type": "code",
   "execution_count": 43,
   "id": "b1a00eaa",
   "metadata": {},
   "outputs": [
    {
     "data": {
      "text/html": [
       "<div>\n",
       "<style scoped>\n",
       "    .dataframe tbody tr th:only-of-type {\n",
       "        vertical-align: middle;\n",
       "    }\n",
       "\n",
       "    .dataframe tbody tr th {\n",
       "        vertical-align: top;\n",
       "    }\n",
       "\n",
       "    .dataframe thead th {\n",
       "        text-align: right;\n",
       "    }\n",
       "</style>\n",
       "<table border=\"1\" class=\"dataframe\">\n",
       "  <thead>\n",
       "    <tr style=\"text-align: right;\">\n",
       "      <th></th>\n",
       "      <th>target</th>\n",
       "      <th>message</th>\n",
       "    </tr>\n",
       "  </thead>\n",
       "  <tbody>\n",
       "    <tr>\n",
       "      <th>0</th>\n",
       "      <td>0</td>\n",
       "      <td>Go until jurong point, crazy.. Available only ...</td>\n",
       "    </tr>\n",
       "    <tr>\n",
       "      <th>1</th>\n",
       "      <td>0</td>\n",
       "      <td>Ok lar... Joking wif u oni...</td>\n",
       "    </tr>\n",
       "    <tr>\n",
       "      <th>2</th>\n",
       "      <td>1</td>\n",
       "      <td>Free entry in 2 a wkly comp to win FA Cup fina...</td>\n",
       "    </tr>\n",
       "    <tr>\n",
       "      <th>3</th>\n",
       "      <td>0</td>\n",
       "      <td>U dun say so early hor... U c already then say...</td>\n",
       "    </tr>\n",
       "    <tr>\n",
       "      <th>4</th>\n",
       "      <td>0</td>\n",
       "      <td>Nah I don't think he goes to usf, he lives aro...</td>\n",
       "    </tr>\n",
       "  </tbody>\n",
       "</table>\n",
       "</div>"
      ],
      "text/plain": [
       "   target                                            message\n",
       "0       0  Go until jurong point, crazy.. Available only ...\n",
       "1       0                      Ok lar... Joking wif u oni...\n",
       "2       1  Free entry in 2 a wkly comp to win FA Cup fina...\n",
       "3       0  U dun say so early hor... U c already then say...\n",
       "4       0  Nah I don't think he goes to usf, he lives aro..."
      ]
     },
     "execution_count": 43,
     "metadata": {},
     "output_type": "execute_result"
    }
   ],
   "source": [
    "mp.head()"
   ]
  },
  {
   "cell_type": "code",
   "execution_count": 44,
   "id": "ddf6ae9c",
   "metadata": {},
   "outputs": [
    {
     "data": {
      "text/plain": [
       "target     0\n",
       "message    0\n",
       "dtype: int64"
      ]
     },
     "execution_count": 44,
     "metadata": {},
     "output_type": "execute_result"
    }
   ],
   "source": [
    "#checking how many missing values are present in this dataset \n",
    "mp.isnull().sum()\n"
   ]
  },
  {
   "cell_type": "code",
   "execution_count": 45,
   "id": "c4a2e729",
   "metadata": {},
   "outputs": [
    {
     "data": {
      "text/plain": [
       "403"
      ]
     },
     "execution_count": 45,
     "metadata": {},
     "output_type": "execute_result"
    }
   ],
   "source": [
    "#cheaking for duplicate values\n",
    "mp.duplicated().sum()\n"
   ]
  },
  {
   "cell_type": "code",
   "execution_count": 46,
   "id": "87193868",
   "metadata": {},
   "outputs": [
    {
     "data": {
      "text/plain": [
       "0"
      ]
     },
     "execution_count": 46,
     "metadata": {},
     "output_type": "execute_result"
    }
   ],
   "source": [
    "#after removing duplicates\n",
    "mp=mp.drop_duplicates(keep='first')\n",
    "#checking after removing how many duplicate values are present \n",
    "mp.duplicated().sum()"
   ]
  },
  {
   "cell_type": "code",
   "execution_count": 48,
   "id": "40b44aa9",
   "metadata": {},
   "outputs": [
    {
     "data": {
      "text/plain": [
       "(5169, 2)"
      ]
     },
     "execution_count": 48,
     "metadata": {},
     "output_type": "execute_result"
    }
   ],
   "source": [
    "#after removing duplicate values about remaining dataset \n",
    "mp.shape"
   ]
  },
  {
   "cell_type": "code",
   "execution_count": 52,
   "id": "97b0acc6",
   "metadata": {},
   "outputs": [
    {
     "data": {
      "text/plain": [
       "0    4516\n",
       "1     653\n",
       "Name: target, dtype: int64"
      ]
     },
     "execution_count": 52,
     "metadata": {},
     "output_type": "execute_result"
    }
   ],
   "source": [
    "#here our cleaning part is completed now our task is to do eda\n",
    "mp['target'].value_counts()"
   ]
  },
  {
   "cell_type": "code",
   "execution_count": null,
   "id": "87087b8c",
   "metadata": {},
   "outputs": [],
   "source": []
  }
 ],
 "metadata": {
  "kernelspec": {
   "display_name": "Python 3 (ipykernel)",
   "language": "python",
   "name": "python3"
  },
  "language_info": {
   "codemirror_mode": {
    "name": "ipython",
    "version": 3
   },
   "file_extension": ".py",
   "mimetype": "text/x-python",
   "name": "python",
   "nbconvert_exporter": "python",
   "pygments_lexer": "ipython3",
   "version": "3.10.9"
  }
 },
 "nbformat": 4,
 "nbformat_minor": 5
}
